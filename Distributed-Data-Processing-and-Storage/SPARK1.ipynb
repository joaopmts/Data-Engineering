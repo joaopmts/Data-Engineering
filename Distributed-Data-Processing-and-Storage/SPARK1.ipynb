{
 "cells": [
  {
   "cell_type": "code",
   "execution_count": 23,
   "id": "d7fad5d5-de26-44ae-81d8-ecaea235c4ba",
   "metadata": {
    "tags": []
   },
   "outputs": [],
   "source": [
    "from pyspark.sql import SparkSession"
   ]
  },
  {
   "cell_type": "code",
   "execution_count": 24,
   "id": "ba65fcd4-2bb1-4978-91c4-6c5c7274231a",
   "metadata": {},
   "outputs": [],
   "source": [
    "spark = SparkSession.builder.appName('Aula de Spark').enableHiveSupport().getOrCreate()"
   ]
  },
  {
   "cell_type": "code",
   "execution_count": 25,
   "id": "d0140002-a0cc-49f9-967b-d850b72753c5",
   "metadata": {},
   "outputs": [
    {
     "data": {
      "text/html": [
       "\n",
       "            <div>\n",
       "                <p><b>SparkSession - hive</b></p>\n",
       "                \n",
       "        <div>\n",
       "            <p><b>SparkContext</b></p>\n",
       "\n",
       "            <p><a href=\"http://spark-master:4040\">Spark UI</a></p>\n",
       "\n",
       "            <dl>\n",
       "              <dt>Version</dt>\n",
       "                <dd><code>v3.3.1</code></dd>\n",
       "              <dt>Master</dt>\n",
       "                <dd><code>local[*]</code></dd>\n",
       "              <dt>AppName</dt>\n",
       "                <dd><code>Aula de Spark</code></dd>\n",
       "            </dl>\n",
       "        </div>\n",
       "        \n",
       "            </div>\n",
       "        "
      ],
      "text/plain": [
       "<pyspark.sql.session.SparkSession at 0x7fa500108580>"
      ]
     },
     "execution_count": 25,
     "metadata": {},
     "output_type": "execute_result"
    }
   ],
   "source": [
    "spark"
   ]
  },
  {
   "cell_type": "markdown",
   "id": "e8693102-c05b-4ac2-ba96-7c3885a6ee83",
   "metadata": {},
   "source": [
    "# ACESSO HADOOP"
   ]
  },
  {
   "cell_type": "code",
   "execution_count": 26,
   "id": "81642a8e-da03-4b65-b0c8-ec0890f7cfa6",
   "metadata": {},
   "outputs": [],
   "source": [
    "df_hdfs = spark.read.csv(path='hdfs://///datalake/bronze/aula4', header=True)"
   ]
  },
  {
   "cell_type": "code",
   "execution_count": 27,
   "id": "e5b81337-4f06-4732-8558-dd949440b3c7",
   "metadata": {},
   "outputs": [
    {
     "data": {
      "text/plain": [
       "DataFrame[summary: string, usuario: string, item: string, avaliacao: string]"
      ]
     },
     "execution_count": 27,
     "metadata": {},
     "output_type": "execute_result"
    }
   ],
   "source": [
    "df_hdfs.describe()"
   ]
  },
  {
   "cell_type": "code",
   "execution_count": 28,
   "id": "536e2248-9042-4764-876e-865a6aaf4dde",
   "metadata": {},
   "outputs": [
    {
     "name": "stdout",
     "output_type": "stream",
     "text": [
      "+-------+----+---------+\n",
      "|usuario|item|avaliacao|\n",
      "+-------+----+---------+\n",
      "|    109|   9|        3|\n",
      "|    174| 412|        1|\n",
      "|      7| 208|        5|\n",
      "|    371|  97|        5|\n",
      "|    296| 255|        2|\n",
      "|    280|  82|        2|\n",
      "|    271| 275|        4|\n",
      "|    110| 791|        2|\n",
      "|     59| 926|        1|\n",
      "|    217| 576|        1|\n",
      "|    145| 665|        5|\n",
      "|    334| 204|        4|\n",
      "|     42| 568|        4|\n",
      "|    200| 143|        5|\n",
      "|     89| 387|        5|\n",
      "|    311| 588|        4|\n",
      "|    235| 269|        4|\n",
      "|    287| 156|        5|\n",
      "|    344| 204|        4|\n",
      "|     43| 289|        4|\n",
      "+-------+----+---------+\n",
      "only showing top 20 rows\n",
      "\n"
     ]
    }
   ],
   "source": [
    "df_hdfs.show()"
   ]
  },
  {
   "cell_type": "markdown",
   "id": "6b882e28-7dfa-4d56-8321-19de076b8288",
   "metadata": {},
   "source": [
    "# ACESSO S3"
   ]
  },
  {
   "cell_type": "code",
   "execution_count": 31,
   "id": "c507d526-0a29-4145-8310-83eff00a1a04",
   "metadata": {},
   "outputs": [],
   "source": [
    "df_s3 = spark.read.csv('s3a://camada-bronze/aula4')"
   ]
  },
  {
   "cell_type": "code",
   "execution_count": 32,
   "id": "0424b194-5152-4e0b-8fa3-cb93222ddc1d",
   "metadata": {},
   "outputs": [
    {
     "data": {
      "text/plain": [
       "DataFrame[summary: string, _c0: string, _c1: string, _c2: string]"
      ]
     },
     "execution_count": 32,
     "metadata": {},
     "output_type": "execute_result"
    }
   ],
   "source": [
    "df_s3.describe()"
   ]
  },
  {
   "cell_type": "code",
   "execution_count": 34,
   "id": "54ecf55a-4c7a-4ff7-be1c-d0ade9bf2b1c",
   "metadata": {},
   "outputs": [
    {
     "name": "stdout",
     "output_type": "stream",
     "text": [
      "+-------+----+---------+\n",
      "|    _c0| _c1|      _c2|\n",
      "+-------+----+---------+\n",
      "|usuario|item|avaliacao|\n",
      "|    109|   9|        3|\n",
      "|    174| 412|        1|\n",
      "|      7| 208|        5|\n",
      "|    371|  97|        5|\n",
      "|    296| 255|        2|\n",
      "|    280|  82|        2|\n",
      "|    271| 275|        4|\n",
      "|    110| 791|        2|\n",
      "|     59| 926|        1|\n",
      "|    217| 576|        1|\n",
      "|    145| 665|        5|\n",
      "|    334| 204|        4|\n",
      "|     42| 568|        4|\n",
      "|    200| 143|        5|\n",
      "|     89| 387|        5|\n",
      "|    311| 588|        4|\n",
      "|    235| 269|        4|\n",
      "|    287| 156|        5|\n",
      "|    344| 204|        4|\n",
      "+-------+----+---------+\n",
      "only showing top 20 rows\n",
      "\n"
     ]
    }
   ],
   "source": [
    "df_s3.show()"
   ]
  },
  {
   "cell_type": "markdown",
   "id": "205a7e41-a9d2-476d-9a88-719890c50a8e",
   "metadata": {},
   "source": [
    "# ACESSO ODBC"
   ]
  },
  {
   "cell_type": "code",
   "execution_count": 35,
   "id": "07e1d0b0-259d-41a5-87fb-25719f886173",
   "metadata": {},
   "outputs": [],
   "source": [
    "conn = 'jdbc:postgresql://postgres:5432/dvdrental'"
   ]
  },
  {
   "cell_type": "code",
   "execution_count": 37,
   "id": "547b383b-ef7b-4d7c-84fd-7c7fdf7657c7",
   "metadata": {},
   "outputs": [],
   "source": [
    "prop = {\n",
    "    \"user\":\"admin\",\n",
    "    \"password\":\"admin\",\n",
    "    \"driver\":\"org.postgresql.Driver\"\n",
    "}"
   ]
  },
  {
   "cell_type": "code",
   "execution_count": 38,
   "id": "ce5b2ca0-ea31-437d-bf02-a855a2e2995c",
   "metadata": {},
   "outputs": [
    {
     "data": {
      "text/plain": [
       "{'user': 'admin', 'password': 'admin', 'driver': 'org.postgresql.Driver'}"
      ]
     },
     "execution_count": 38,
     "metadata": {},
     "output_type": "execute_result"
    }
   ],
   "source": [
    "prop"
   ]
  },
  {
   "cell_type": "code",
   "execution_count": 39,
   "id": "849b3790-800b-4430-89ce-a928e2bafcf3",
   "metadata": {},
   "outputs": [],
   "source": [
    "df_city = spark.read.jdbc(url=conn,properties=prop,table='public.city')"
   ]
  },
  {
   "cell_type": "code",
   "execution_count": 41,
   "id": "3ff39091-bfed-4d22-aa60-12b51fde9431",
   "metadata": {},
   "outputs": [
    {
     "name": "stdout",
     "output_type": "stream",
     "text": [
      "+-------+--------------------+----------+-------------------+\n",
      "|city_id|                city|country_id|        last_update|\n",
      "+-------+--------------------+----------+-------------------+\n",
      "|      2|                Abha|        82|2006-02-15 09:45:25|\n",
      "|      3|           Abu Dhabi|       101|2006-02-15 09:45:25|\n",
      "|      4|                Acua|        60|2006-02-15 09:45:25|\n",
      "|      5|               Adana|        97|2006-02-15 09:45:25|\n",
      "|      6|         Addis Abeba|        31|2006-02-15 09:45:25|\n",
      "|      7|                Aden|       107|2006-02-15 09:45:25|\n",
      "|      8|               Adoni|        44|2006-02-15 09:45:25|\n",
      "|      9|          Ahmadnagar|        44|2006-02-15 09:45:25|\n",
      "|     10|            Akishima|        50|2006-02-15 09:45:25|\n",
      "|     11|               Akron|       103|2006-02-15 09:45:25|\n",
      "|     12|              al-Ayn|       101|2006-02-15 09:45:25|\n",
      "|     13|           al-Hawiya|        82|2006-02-15 09:45:25|\n",
      "|     14|           al-Manama|        11|2006-02-15 09:45:25|\n",
      "|     15|          al-Qadarif|        89|2006-02-15 09:45:25|\n",
      "|     16|            al-Qatif|        82|2006-02-15 09:45:25|\n",
      "|     17|         Alessandria|        49|2006-02-15 09:45:25|\n",
      "|     18|Allappuzha (Allep...|        44|2006-02-15 09:45:25|\n",
      "|     19|             Allende|        60|2006-02-15 09:45:25|\n",
      "|     20|     Almirante Brown|         6|2006-02-15 09:45:25|\n",
      "|     21|            Alvorada|        15|2006-02-15 09:45:25|\n",
      "+-------+--------------------+----------+-------------------+\n",
      "only showing top 20 rows\n",
      "\n"
     ]
    }
   ],
   "source": [
    "df_city.show()"
   ]
  },
  {
   "cell_type": "code",
   "execution_count": 42,
   "id": "939e94a9-019a-42ed-9223-e1150587229e",
   "metadata": {},
   "outputs": [
    {
     "data": {
      "text/plain": [
       "652"
      ]
     },
     "execution_count": 42,
     "metadata": {},
     "output_type": "execute_result"
    }
   ],
   "source": [
    "df_city.count()"
   ]
  },
  {
   "cell_type": "markdown",
   "id": "dd8a82d0-43db-4866-9d7b-f5259f064a0d",
   "metadata": {},
   "source": [
    "# QUERY NO ODBC"
   ]
  },
  {
   "cell_type": "code",
   "execution_count": 43,
   "id": "adbbf9dc-d5c0-4cca-a4aa-8a9ceff48d57",
   "metadata": {},
   "outputs": [],
   "source": [
    "query = '(select c.customer_id, c.first_name, c.email, c2.city \\\n",
    "from public.customer c \\\n",
    "inner join public.address a on c.address_id = a.address_id \\\n",
    "inner join public.city c2 on c2.city_id = a.city_id) as tab'"
   ]
  },
  {
   "cell_type": "code",
   "execution_count": 44,
   "id": "04c4bd23-ae11-4d1c-bedb-1175b218b022",
   "metadata": {},
   "outputs": [],
   "source": [
    "df_query = spark.read.jdbc(url=conn,properties=prop, table=query)"
   ]
  },
  {
   "cell_type": "code",
   "execution_count": 46,
   "id": "c601f6a1-8e1b-41d3-b37f-bfdc9335bf10",
   "metadata": {},
   "outputs": [
    {
     "name": "stdout",
     "output_type": "stream",
     "text": [
      "+-----------+----------+-----------------------------------+---------------+\n",
      "|customer_id|first_name|email                              |city           |\n",
      "+-----------+----------+-----------------------------------+---------------+\n",
      "|524        |Jared     |jared.ely@sakilacustomer.org       |Purwakarta     |\n",
      "|1          |Mary      |mary.smith@sakilacustomer.org      |Sasebo         |\n",
      "|2          |Patricia  |patricia.johnson@sakilacustomer.org|San Bernardino |\n",
      "|3          |Linda     |linda.williams@sakilacustomer.org  |Athenai        |\n",
      "|4          |Barbara   |barbara.jones@sakilacustomer.org   |Myingyan       |\n",
      "|5          |Elizabeth |elizabeth.brown@sakilacustomer.org |Nantou         |\n",
      "|6          |Jennifer  |jennifer.davis@sakilacustomer.org  |Laredo         |\n",
      "|7          |Maria     |maria.miller@sakilacustomer.org    |Kragujevac     |\n",
      "|8          |Susan     |susan.wilson@sakilacustomer.org    |Hamilton       |\n",
      "|9          |Margaret  |margaret.moore@sakilacustomer.org  |Masqat         |\n",
      "|10         |Dorothy   |dorothy.taylor@sakilacustomer.org  |Esfahan        |\n",
      "|11         |Lisa      |lisa.anderson@sakilacustomer.org   |Sagamihara     |\n",
      "|12         |Nancy     |nancy.thomas@sakilacustomer.org    |Yamuna Nagar   |\n",
      "|13         |Karen     |karen.jackson@sakilacustomer.org   |Osmaniye       |\n",
      "|14         |Betty     |betty.white@sakilacustomer.org     |Citrus Heights |\n",
      "|15         |Helen     |helen.harris@sakilacustomer.org    |Bhopal         |\n",
      "|16         |Sandra    |sandra.martin@sakilacustomer.org   |Southend-on-Sea|\n",
      "|17         |Donna     |donna.thompson@sakilacustomer.org  |Elista         |\n",
      "|18         |Carol     |carol.garcia@sakilacustomer.org    |Kaduna         |\n",
      "|19         |Ruth      |ruth.martinez@sakilacustomer.org   |Kimberley      |\n",
      "+-----------+----------+-----------------------------------+---------------+\n",
      "only showing top 20 rows\n",
      "\n"
     ]
    }
   ],
   "source": [
    "df_query.show(truncate=False)"
   ]
  },
  {
   "cell_type": "code",
   "execution_count": 47,
   "id": "cd56b220-94e5-4a01-a819-ee5a45a147b4",
   "metadata": {},
   "outputs": [
    {
     "data": {
      "text/plain": [
       "599"
      ]
     },
     "execution_count": 47,
     "metadata": {},
     "output_type": "execute_result"
    }
   ],
   "source": [
    "df_query.count()"
   ]
  },
  {
   "cell_type": "code",
   "execution_count": 49,
   "id": "95e050fa-6cdd-4fd6-a1b5-3d36ae8396b5",
   "metadata": {},
   "outputs": [
    {
     "name": "stdout",
     "output_type": "stream",
     "text": [
      "+-----------+----------+--------------------+----------+\n",
      "|customer_id|first_name|               email|      city|\n",
      "+-----------+----------+--------------------+----------+\n",
      "|        524|     Jared|jared.ely@sakilac...|Purwakarta|\n",
      "|          1|      Mary|mary.smith@sakila...|    Sasebo|\n",
      "+-----------+----------+--------------------+----------+\n",
      "only showing top 2 rows\n",
      "\n"
     ]
    }
   ],
   "source": [
    "df_query.show(2)"
   ]
  },
  {
   "cell_type": "markdown",
   "id": "ef76a06e-4b9d-4a26-b2f1-34861d76b5ee",
   "metadata": {},
   "source": [
    "# GRAVANDO NO DATALAKE"
   ]
  },
  {
   "cell_type": "code",
   "execution_count": 54,
   "id": "c2520a38-050e-4dc0-8289-77b32a302704",
   "metadata": {},
   "outputs": [],
   "source": [
    "df_query.write.csv('hdfs:///datalake/bronze/aula4', header = True, sep=';', mode='append')"
   ]
  },
  {
   "cell_type": "code",
   "execution_count": 57,
   "id": "95faa009-4c06-4528-8ad6-ca21d0e961eb",
   "metadata": {},
   "outputs": [],
   "source": [
    "df_query2 = df_query.repartition(3)"
   ]
  },
  {
   "cell_type": "code",
   "execution_count": 58,
   "id": "00ff9144-00e2-4521-a162-1802f14acbcc",
   "metadata": {},
   "outputs": [],
   "source": [
    "df_query2.write.csv('hdfs:///datalake/bronze/aula4/gravacao', header = True, sep=';', mode='overwrite')"
   ]
  },
  {
   "cell_type": "code",
   "execution_count": 61,
   "id": "dd43838e-4350-4f33-9d9e-a982da61d2e9",
   "metadata": {},
   "outputs": [],
   "source": [
    "df_query2.write.json('s3a://camada-bronze/aula4/gravacao', mode='append')"
   ]
  },
  {
   "cell_type": "code",
   "execution_count": 62,
   "id": "6d4df0fa-b1b4-449a-a593-65f7e32b65c4",
   "metadata": {},
   "outputs": [],
   "source": [
    "df_query2.write.parquet('s3a://camada-bronze/aula4/gravacao', mode='append')"
   ]
  },
  {
   "cell_type": "markdown",
   "id": "b28559f5-0de3-4b59-a6b6-8f0a3252e13c",
   "metadata": {},
   "source": [
    "# GRAVANDO NO HIVE"
   ]
  },
  {
   "cell_type": "code",
   "execution_count": 63,
   "id": "412341a5-ab5f-480c-aac7-6898d0ee6119",
   "metadata": {},
   "outputs": [],
   "source": [
    "df_query.write.format('hive').saveAsTable('default.query')"
   ]
  },
  {
   "cell_type": "code",
   "execution_count": 64,
   "id": "9829bfcc-89d9-4e3f-ae92-8ab1051944b3",
   "metadata": {},
   "outputs": [],
   "source": [
    "df_query.write.format('hive').insertInto('default.query')"
   ]
  },
  {
   "cell_type": "code",
   "execution_count": 66,
   "id": "0a1c71c5-1018-42d8-b85c-d3b0d66189f5",
   "metadata": {},
   "outputs": [],
   "source": [
    "df_query.write.mode('overwrite').format('hive').insertInto('default.query')"
   ]
  },
  {
   "cell_type": "code",
   "execution_count": 70,
   "id": "d8f6e6de-3e2b-4a8f-9770-8eb9a1080d4d",
   "metadata": {},
   "outputs": [],
   "source": [
    "# OBS AO GRAVAR NO HIVE VC NAO ESCOLHE ONDE A TABELA É SALVA, \n",
    "# RECOMENDA-SE CRIAR UMA TABELA COM A FONTE ANTES\n",
    "# SPARK SO PARA POPULAR E NAO CRIAR"
   ]
  },
  {
   "cell_type": "code",
   "execution_count": null,
   "id": "48f4d21a-93ff-49cd-9dd6-87fc18517c14",
   "metadata": {},
   "outputs": [],
   "source": []
  },
  {
   "cell_type": "code",
   "execution_count": 71,
   "id": "e804b06e-fda4-4d66-9401-5b46921ca641",
   "metadata": {},
   "outputs": [],
   "source": [
    "# LENDO HIVE"
   ]
  },
  {
   "cell_type": "code",
   "execution_count": 73,
   "id": "85595865-2b36-473c-9e03-74b97497649d",
   "metadata": {},
   "outputs": [],
   "source": [
    "df_hive = spark.read.table('aula.tabelaexterna')"
   ]
  },
  {
   "cell_type": "code",
   "execution_count": 74,
   "id": "d583b6d3-d351-4d40-85f1-1a8964cd04e5",
   "metadata": {},
   "outputs": [
    {
     "name": "stdout",
     "output_type": "stream",
     "text": [
      "+---+---------+-----+\n",
      "| id|     nome|idade|\n",
      "+---+---------+-----+\n",
      "|  1|     joao|   30|\n",
      "|  2|   marino|   40|\n",
      "|  3|   daniel|   50|\n",
      "|  4|     caio|   25|\n",
      "|  1|  Richard|   68|\n",
      "|  2|   Ashley|   35|\n",
      "|  3| Cheyenne|   37|\n",
      "|  4|  Eduardo|   50|\n",
      "|  5|  Felicia|   49|\n",
      "|  6|   Travis|   39|\n",
      "|  7|Elizabeth|   61|\n",
      "|  8|    Donna|   33|\n",
      "|  9|   Nicole|   54|\n",
      "| 10|    David|   29|\n",
      "| 11|   Rachel|   28|\n",
      "| 12|  Kirsten|   34|\n",
      "| 13| Jennifer|   51|\n",
      "| 14|   Amanda|   27|\n",
      "| 15|   Joseph|   77|\n",
      "| 16|    Faith|   37|\n",
      "+---+---------+-----+\n",
      "only showing top 20 rows\n",
      "\n"
     ]
    }
   ],
   "source": [
    "df_hive.show()"
   ]
  },
  {
   "cell_type": "code",
   "execution_count": 75,
   "id": "30d83251-8c94-4a4f-9c02-3f9720899c6d",
   "metadata": {},
   "outputs": [
    {
     "data": {
      "text/plain": [
       "1000004"
      ]
     },
     "execution_count": 75,
     "metadata": {},
     "output_type": "execute_result"
    }
   ],
   "source": [
    "df_hive.count()"
   ]
  },
  {
   "cell_type": "code",
   "execution_count": 76,
   "id": "e7e3896c-07ea-477b-a770-2baca4f32721",
   "metadata": {},
   "outputs": [],
   "source": [
    "df_hive = spark.read.table('default.query')"
   ]
  },
  {
   "cell_type": "code",
   "execution_count": null,
   "id": "d8834bac-2cd2-4e1f-a44e-941c82554854",
   "metadata": {},
   "outputs": [],
   "source": [
    "# cruzando tabela hive com tabela s3"
   ]
  },
  {
   "cell_type": "code",
   "execution_count": 77,
   "id": "e7b36c59-fddf-413e-9460-d36c635fd0d5",
   "metadata": {},
   "outputs": [
    {
     "name": "stdout",
     "output_type": "stream",
     "text": [
      "+-----------+----------+--------------------+---------------+-----------+----------+--------------------+---------------+\n",
      "|customer_id|first_name|               email|           city|customer_id|first_name|               email|           city|\n",
      "+-----------+----------+--------------------+---------------+-----------+----------+--------------------+---------------+\n",
      "|        524|     Jared|jared.ely@sakilac...|     Purwakarta|        524|     Jared|jared.ely@sakilac...|     Purwakarta|\n",
      "|          1|      Mary|mary.smith@sakila...|         Sasebo|          1|      Mary|mary.smith@sakila...|         Sasebo|\n",
      "|          2|  Patricia|patricia.johnson@...| San Bernardino|          2|  Patricia|patricia.johnson@...| San Bernardino|\n",
      "|          3|     Linda|linda.williams@sa...|        Athenai|          3|     Linda|linda.williams@sa...|        Athenai|\n",
      "|          4|   Barbara|barbara.jones@sak...|       Myingyan|          4|   Barbara|barbara.jones@sak...|       Myingyan|\n",
      "|          5| Elizabeth|elizabeth.brown@s...|         Nantou|          5| Elizabeth|elizabeth.brown@s...|         Nantou|\n",
      "|          6|  Jennifer|jennifer.davis@sa...|         Laredo|          6|  Jennifer|jennifer.davis@sa...|         Laredo|\n",
      "|          7|     Maria|maria.miller@saki...|     Kragujevac|          7|     Maria|maria.miller@saki...|     Kragujevac|\n",
      "|          8|     Susan|susan.wilson@saki...|       Hamilton|          8|     Susan|susan.wilson@saki...|       Hamilton|\n",
      "|          9|  Margaret|margaret.moore@sa...|         Masqat|          9|  Margaret|margaret.moore@sa...|         Masqat|\n",
      "|         10|   Dorothy|dorothy.taylor@sa...|        Esfahan|         10|   Dorothy|dorothy.taylor@sa...|        Esfahan|\n",
      "|         11|      Lisa|lisa.anderson@sak...|     Sagamihara|         11|      Lisa|lisa.anderson@sak...|     Sagamihara|\n",
      "|         12|     Nancy|nancy.thomas@saki...|   Yamuna Nagar|         12|     Nancy|nancy.thomas@saki...|   Yamuna Nagar|\n",
      "|         13|     Karen|karen.jackson@sak...|       Osmaniye|         13|     Karen|karen.jackson@sak...|       Osmaniye|\n",
      "|         14|     Betty|betty.white@sakil...| Citrus Heights|         14|     Betty|betty.white@sakil...| Citrus Heights|\n",
      "|         15|     Helen|helen.harris@saki...|         Bhopal|         15|     Helen|helen.harris@saki...|         Bhopal|\n",
      "|         16|    Sandra|sandra.martin@sak...|Southend-on-Sea|         16|    Sandra|sandra.martin@sak...|Southend-on-Sea|\n",
      "|         17|     Donna|donna.thompson@sa...|         Elista|         17|     Donna|donna.thompson@sa...|         Elista|\n",
      "|         18|     Carol|carol.garcia@saki...|         Kaduna|         18|     Carol|carol.garcia@saki...|         Kaduna|\n",
      "|         19|      Ruth|ruth.martinez@sak...|      Kimberley|         19|      Ruth|ruth.martinez@sak...|      Kimberley|\n",
      "+-----------+----------+--------------------+---------------+-----------+----------+--------------------+---------------+\n",
      "only showing top 20 rows\n",
      "\n"
     ]
    }
   ],
   "source": [
    "df_hive.join(df_query, df_query.customer_id == df_hive.customer_id).show()"
   ]
  },
  {
   "cell_type": "code",
   "execution_count": 86,
   "id": "3f9abe6a-4524-4058-b7d0-7a920d18fbcc",
   "metadata": {},
   "outputs": [],
   "source": [
    "df_total = spark.sql('select count(*) from parquet.`s3a://camada-bronze/aula4/gravacao`')"
   ]
  },
  {
   "cell_type": "code",
   "execution_count": 87,
   "id": "cff1ac77-0ee4-4070-8ac9-bdc6416ba7eb",
   "metadata": {},
   "outputs": [
    {
     "name": "stdout",
     "output_type": "stream",
     "text": [
      "+--------+\n",
      "|count(1)|\n",
      "+--------+\n",
      "|     599|\n",
      "+--------+\n",
      "\n"
     ]
    }
   ],
   "source": [
    "df_total.show()"
   ]
  },
  {
   "cell_type": "code",
   "execution_count": 89,
   "id": "d98be37a-cbc7-45f5-93c5-c18ad60a63b2",
   "metadata": {},
   "outputs": [],
   "source": [
    "df_total.write.jdbc(url=conn, properties=prop, table = 'public.aula4')"
   ]
  },
  {
   "cell_type": "markdown",
   "id": "e4c9611e-a963-46fd-a4c0-cab5171d8c9d",
   "metadata": {},
   "source": [
    "# APIs"
   ]
  },
  {
   "cell_type": "code",
   "execution_count": 90,
   "id": "bbf84685-581c-42e8-a844-164816da4d16",
   "metadata": {},
   "outputs": [],
   "source": [
    "import requests"
   ]
  },
  {
   "cell_type": "code",
   "execution_count": 116,
   "id": "ed72a797-2de1-4ffa-bd29-e518eb720745",
   "metadata": {},
   "outputs": [],
   "source": [
    "retorno = requests.get('https://catfact.ninja/fact')"
   ]
  },
  {
   "cell_type": "code",
   "execution_count": 117,
   "id": "d3f6934f-3034-4a3d-9aba-073ad3687cd2",
   "metadata": {},
   "outputs": [
    {
     "data": {
      "text/plain": [
       "200"
      ]
     },
     "execution_count": 117,
     "metadata": {},
     "output_type": "execute_result"
    }
   ],
   "source": [
    "retorno.status_code"
   ]
  },
  {
   "cell_type": "code",
   "execution_count": 125,
   "id": "90feefcf-386e-4e08-b41f-e2e4e44eb2a9",
   "metadata": {},
   "outputs": [
    {
     "data": {
      "text/plain": [
       "'{\"fact\":\"Most cats give birth to a litter of between one and nine kittens. The largest known litter ever produced was 19 kittens, of which 15 survived.\",\"length\":142}'"
      ]
     },
     "execution_count": 125,
     "metadata": {},
     "output_type": "execute_result"
    }
   ],
   "source": [
    "retorno.text"
   ]
  },
  {
   "cell_type": "code",
   "execution_count": 127,
   "id": "4a4703a3-69d1-4fa7-93fb-236965c633e6",
   "metadata": {},
   "outputs": [
    {
     "name": "stdout",
     "output_type": "stream",
     "text": [
      "0\n",
      "1\n",
      "2\n",
      "3\n",
      "4\n",
      "5\n",
      "6\n",
      "7\n",
      "8\n",
      "9\n"
     ]
    }
   ],
   "source": [
    "l = []\n",
    "for x in range (10):\n",
    "    print(x)\n",
    "    retorno = requests.get('https://catfact.ninja/fact')\n",
    "    l.append(retorno.json())\n",
    "    "
   ]
  },
  {
   "cell_type": "code",
   "execution_count": 128,
   "id": "5cba3fa0-f5d1-4254-93f5-fbf4e6b416bf",
   "metadata": {},
   "outputs": [
    {
     "data": {
      "text/plain": [
       "[{'fact': 'According to Hebrew legend, Noah prayed to God for help protecting all the food he stored on the ark from being eaten by rats. In reply, God made the lion sneeze, and out popped a cat.',\n",
       "  'length': 184},\n",
       " {'fact': 'The longest living cat on record according to the Guinness Book belongs to the late Creme Puff of Austin, Texas who lived to the ripe old age of 38 years and 3 days!',\n",
       "  'length': 165},\n",
       " {'fact': \"The way you treat kittens in the early stages of it's life will render it's personality traits later in life.\",\n",
       "  'length': 109},\n",
       " {'fact': 'You check your cats pulse on the inside of the back thigh, where the leg joins to the body. Normal for cats: 110-170 beats per minute.',\n",
       "  'length': 134},\n",
       " {'fact': \"Cat's urine glows under a black light.\", 'length': 38},\n",
       " {'fact': 'Cats have 300 million neurons; dogs have about 160 million',\n",
       "  'length': 58},\n",
       " {'fact': 'Cat bites are more likely to become infected than dog bites.',\n",
       "  'length': 60},\n",
       " {'fact': 'Researchers believe the word “tabby” comes from Attabiyah, a neighborhood in Baghdad, Iraq. Tabbies got their name because their striped coats resembled the famous wavy patterns in the silk produced in this city.',\n",
       "  'length': 212},\n",
       " {'fact': 'Miacis, the primitive ancestor of cats, was a small, tree-living creature of the late Eocene period, some 45 to 50 million years ago.',\n",
       "  'length': 133},\n",
       " {'fact': 'The smallest pedigreed cat is a Singapura, which can weigh just 4 lbs (1.8 kg), or about five large cans of cat food. The largest pedigreed cats are Maine Coon cats, which can weigh 25 lbs (11.3 kg), or nearly twice as much as an average cat weighs.',\n",
       "  'length': 249}]"
      ]
     },
     "execution_count": 128,
     "metadata": {},
     "output_type": "execute_result"
    }
   ],
   "source": [
    "l"
   ]
  },
  {
   "cell_type": "code",
   "execution_count": 129,
   "id": "fa7babde-9bce-438e-95a4-06c361b8b84d",
   "metadata": {},
   "outputs": [],
   "source": [
    "req = spark.read.json(spark.sparkContext.parallelize(l))"
   ]
  },
  {
   "cell_type": "code",
   "execution_count": 130,
   "id": "e1b97b2e-bb61-4d3d-a22b-9601b589b0f0",
   "metadata": {},
   "outputs": [
    {
     "name": "stdout",
     "output_type": "stream",
     "text": [
      "+--------------------+------+\n",
      "|                fact|length|\n",
      "+--------------------+------+\n",
      "|According to Hebr...|   184|\n",
      "|The longest livin...|   165|\n",
      "|The way you treat...|   109|\n",
      "|You check your ca...|   134|\n",
      "|Cat's urine glows...|    38|\n",
      "|Cats have 300 mil...|    58|\n",
      "|Cat bites are mor...|    60|\n",
      "|Researchers belie...|   212|\n",
      "|Miacis, the primi...|   133|\n",
      "|The smallest pedi...|   249|\n",
      "+--------------------+------+\n",
      "\n"
     ]
    }
   ],
   "source": [
    "req.show()"
   ]
  },
  {
   "cell_type": "code",
   "execution_count": null,
   "id": "487426a1-1796-4467-b29b-4fa865cf3b53",
   "metadata": {},
   "outputs": [],
   "source": []
  }
 ],
 "metadata": {
  "kernelspec": {
   "display_name": "Python 3 (ipykernel)",
   "language": "python",
   "name": "python3"
  },
  "language_info": {
   "codemirror_mode": {
    "name": "ipython",
    "version": 3
   },
   "file_extension": ".py",
   "mimetype": "text/x-python",
   "name": "python",
   "nbconvert_exporter": "python",
   "pygments_lexer": "ipython3",
   "version": "3.10.8"
  }
 },
 "nbformat": 4,
 "nbformat_minor": 5
}
