{
 "cells": [
  {
   "cell_type": "markdown",
   "id": "bdf51380-0983-4d9f-8ce4-8d56e3e39e71",
   "metadata": {},
   "source": [
    "# UPLOAD NO GITHUB"
   ]
  },
  {
   "cell_type": "code",
   "execution_count": null,
   "id": "fba8bf82-8d99-4246-8501-c069826e5155",
   "metadata": {},
   "outputs": [],
   "source": [
    "#SETANDO VARIAVEIS"
   ]
  },
  {
   "cell_type": "code",
   "execution_count": 5,
   "id": "a3c94e96-97ff-4cbf-8208-7e2a31f16cb5",
   "metadata": {},
   "outputs": [
    {
     "name": "stdin",
     "output_type": "stream",
     "text": [
      "Digite Token ········\n"
     ]
    }
   ],
   "source": [
    "import os\n",
    "import shutil\n",
    "import requests\n",
    "import glob\n",
    "import getpass\n",
    "\n",
    "GITHUB_TOKEN = getpass.getpass(\"Digite Token\")\n",
    "GITHUB_USERNAME = \"joaopmts\"\n",
    "GITHUB_EMAIL = \"joao.p.m.rodrigues10@gmail.com\"\n",
    "REPO_NAME = \"Data-Engineering\"\n",
    "REPO_DESC = \"MBA in Data Engineering by FIAP\"\n",
    "SUBPASTA_NAME = 'Distributed-Data-Processing-and-Storage'\n",
    "origem = \"DataProcessing/\"\n",
    "destino = \"Data-Engineering/Distributed-Data-Processing-and-Storage/\""
   ]
  },
  {
   "cell_type": "code",
   "execution_count": null,
   "id": "70988dcb-caca-48c8-95dd-559db324c0ce",
   "metadata": {},
   "outputs": [],
   "source": [
    "#CRIANDO REPOSITORIO"
   ]
  },
  {
   "cell_type": "code",
   "execution_count": null,
   "id": "d74955c5-1ae9-4551-822a-169973f43efb",
   "metadata": {},
   "outputs": [],
   "source": [
    "url = \"https://api.github.com/user/repos\"\n",
    "headers = {\"Authorization\": f\"token {GITHUB_TOKEN}\"}\n",
    "data = {\n",
    "    \"name\": REPO_NAME,\n",
    "    \"description\": REPO_DESC,\n",
    "    \"private\": False \n",
    "}\n",
    "\n",
    "response = requests.post(url, headers=headers, json=data)\n",
    "\n",
    "if response.status_code == 201:\n",
    "    print(\"Repositório criado com sucesso!\")\n",
    "else:\n",
    "    print(\"Erro ao criar repositório:\", response.json())"
   ]
  },
  {
   "cell_type": "code",
   "execution_count": 41,
   "id": "089464d7-7530-4796-b9af-c3c853d6dccd",
   "metadata": {},
   "outputs": [],
   "source": [
    "#CLONANDO REPOSITORIO\n",
    "!rm -rf {REPO_NAME}\n"
   ]
  },
  {
   "cell_type": "code",
   "execution_count": 42,
   "id": "e0fc1d9d-6e7f-41bd-823a-4800b7221110",
   "metadata": {},
   "outputs": [
    {
     "name": "stdout",
     "output_type": "stream",
     "text": [
      "Cloning into 'Data-Engineering'...\n",
      "remote: Enumerating objects: 12, done.\u001b[K\n",
      "remote: Counting objects: 100% (12/12), done.\u001b[K\n",
      "remote: Compressing objects: 100% (11/11), done.\u001b[K\n",
      "remote: Total 12 (delta 1), reused 11 (delta 0), pack-reused 0 (from 0)\u001b[K\n",
      "Receiving objects: 100% (12/12), 12.99 KiB | 2.16 MiB/s, done.\n",
      "Resolving deltas: 100% (1/1), done.\n"
     ]
    }
   ],
   "source": [
    "!git clone https://{GITHUB_TOKEN}@github.com/{GITHUB_USERNAME}/{REPO_NAME}.git"
   ]
  },
  {
   "cell_type": "code",
   "execution_count": null,
   "id": "c4c6b285-7f95-46be-86c9-37872adcdb12",
   "metadata": {},
   "outputs": [],
   "source": [
    "#CRIANDO SUBPASTA"
   ]
  },
  {
   "cell_type": "code",
   "execution_count": 40,
   "id": "f4240ffc-165e-438b-9d85-9acf1eb1677e",
   "metadata": {},
   "outputs": [],
   "source": [
    "os.makedirs(f\"{REPO_NAME}/{SUBPASTA_NAME}\", exist_ok=True)"
   ]
  },
  {
   "cell_type": "code",
   "execution_count": null,
   "id": "6c2d10cc-8230-473d-807f-6f68e663b0b7",
   "metadata": {},
   "outputs": [],
   "source": [
    "#COPIANDO NOTEBOOK"
   ]
  },
  {
   "cell_type": "code",
   "execution_count": 34,
   "id": "35639bfa-d598-4037-ba91-e5c108fec83b",
   "metadata": {},
   "outputs": [],
   "source": [
    "os.makedirs(destino, exist_ok=True)\n",
    "for arquivo in glob.glob(origem + \"*.ipynb\"):\n",
    "    shutil.copy(arquivo, destino)"
   ]
  },
  {
   "cell_type": "code",
   "execution_count": null,
   "id": "13699fb3-e29e-41bd-b13c-e4b38cd97222",
   "metadata": {},
   "outputs": [],
   "source": [
    "COMMIT AND PUSH"
   ]
  },
  {
   "cell_type": "code",
   "execution_count": null,
   "id": "69da8ef4-11cf-486f-a7a4-d517420963a2",
   "metadata": {},
   "outputs": [
    {
     "name": "stdout",
     "output_type": "stream",
     "text": [
      "[main 83b2ff3] Adicionando notebook dentro da subpasta notebooks\n",
      " 6 files changed, 41901 insertions(+), 51 deletions(-)\n",
      " create mode 100644 Distributed-Data-Processing-and-Storage/.ipynb_checkpoints/ENTREGA-checkpoint.ipynb\n",
      " create mode 100644 Distributed-Data-Processing-and-Storage/.ipynb_checkpoints/SPARK3-checkpoint.ipynb\n",
      " create mode 100644 Distributed-Data-Processing-and-Storage/.ipynb_checkpoints/UPLOAD GIT-checkpoint.ipynb\n",
      " create mode 100755 Distributed-Data-Processing-and-Storage/results (1).csv\n",
      "Password for 'https://s@github.com': "
     ]
    }
   ],
   "source": [
    "REPO_NAME = \"../../Data-Engineering\"\n",
    "!cd {REPO_NAME} && git config user.name \"{GITHUB_USERNAME}\" && git config user.email {GITHUB_EMAIL}\n",
    "!cd {REPO_NAME} && git add . && git commit -m \"Adicionando notebook dentro da subpasta notebooks\" && git push"
   ]
  },
  {
   "cell_type": "code",
   "execution_count": 3,
   "id": "31a506bb-3478-4fe8-8899-b9d4c1ce96f0",
   "metadata": {},
   "outputs": [
    {
     "name": "stdout",
     "output_type": "stream",
     "text": [
      "Data-Engineering\n"
     ]
    }
   ],
   "source": [
    "print(REPO_NAME)"
   ]
  },
  {
   "cell_type": "code",
   "execution_count": 8,
   "id": "c0eb9e3d-f87e-4578-b096-ed239add93fd",
   "metadata": {},
   "outputs": [
    {
     "name": "stdout",
     "output_type": "stream",
     "text": [
      " ENTREGA.ipynb\t    SPARK1.ipynb   SPARK3.ipynb\n",
      "'results (1).csv'   SPARK2.ipynb  'UPLOAD GIT.ipynb'\n"
     ]
    }
   ],
   "source": [
    "!ls\n"
   ]
  },
  {
   "cell_type": "code",
   "execution_count": null,
   "id": "7451da24-7beb-4fea-9318-3e81bd1873b2",
   "metadata": {},
   "outputs": [],
   "source": []
  }
 ],
 "metadata": {
  "kernelspec": {
   "display_name": "Python 3 (ipykernel)",
   "language": "python",
   "name": "python3"
  },
  "language_info": {
   "codemirror_mode": {
    "name": "ipython",
    "version": 3
   },
   "file_extension": ".py",
   "mimetype": "text/x-python",
   "name": "python",
   "nbconvert_exporter": "python",
   "pygments_lexer": "ipython3",
   "version": "3.10.8"
  }
 },
 "nbformat": 4,
 "nbformat_minor": 5
}
