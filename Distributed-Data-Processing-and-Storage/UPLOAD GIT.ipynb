{
 "cells": [
  {
   "cell_type": "markdown",
   "id": "bdf51380-0983-4d9f-8ce4-8d56e3e39e71",
   "metadata": {},
   "source": [
    "# UPLOAD NO GITHUB"
   ]
  },
  {
   "cell_type": "code",
   "execution_count": null,
   "id": "fba8bf82-8d99-4246-8501-c069826e5155",
   "metadata": {},
   "outputs": [],
   "source": [
    "#SETANDO VARIAVEIS"
   ]
  },
  {
   "cell_type": "code",
   "execution_count": 24,
   "id": "a3c94e96-97ff-4cbf-8208-7e2a31f16cb5",
   "metadata": {},
   "outputs": [
    {
     "name": "stdin",
     "output_type": "stream",
     "text": [
      "Digite Token ········\n"
     ]
    }
   ],
   "source": [
    "import os\n",
    "import shutil\n",
    "import requests\n",
    "import glob\n",
    "import getpass\n",
    "\n",
    "GITHUB_TOKEN = getpass.getpass(\"Digite Token\")\n",
    "GITHUB_USERNAME = \"joaopmts\"\n",
    "REPO_NAME = \"Data-Engineering\"\n",
    "REPO_DESC = \"MBA in Data Engineering by FIAP\"\n",
    "NOTEBOOK_NOME = \"SPARK1.ipynb\" \n",
    "SUBPASTA_NAME = 'Distributed-Data-Processing-and-Storage'\n",
    "PASTA_JUPYTER_REP_LOCAL = 'DataProcessing'\n",
    "PASTA_JUPYTER_REP_GIT = 'Data-Engineering'\n",
    "origem = \"DataProcessing/\"\n",
    "destino = \"Data-Engineering/Distributed-Data-Processing-and-Storage/\""
   ]
  },
  {
   "cell_type": "code",
   "execution_count": null,
   "id": "70988dcb-caca-48c8-95dd-559db324c0ce",
   "metadata": {},
   "outputs": [],
   "source": [
    "#CRIANDO REPOSITORIO"
   ]
  },
  {
   "cell_type": "code",
   "execution_count": null,
   "id": "d74955c5-1ae9-4551-822a-169973f43efb",
   "metadata": {},
   "outputs": [],
   "source": [
    "url = \"https://api.github.com/user/repos\"\n",
    "headers = {\"Authorization\": f\"token {GITHUB_TOKEN}\"}\n",
    "data = {\n",
    "    \"name\": REPO_NAME,\n",
    "    \"description\": REPO_DESC,\n",
    "    \"private\": False  # True se quiser repositório privado\n",
    "}\n",
    "\n",
    "response = requests.post(url, headers=headers, json=data)\n",
    "\n",
    "if response.status_code == 201:\n",
    "    print(\"✅ Repositório criado com sucesso!\")\n",
    "else:\n",
    "    print(\"⚠️ Erro ao criar repositório:\", response.json())"
   ]
  },
  {
   "cell_type": "code",
   "execution_count": 18,
   "id": "089464d7-7530-4796-b9af-c3c853d6dccd",
   "metadata": {},
   "outputs": [],
   "source": [
    "#CLONANDO REPOSITORIO\n",
    "!rm -rf MBA"
   ]
  },
  {
   "cell_type": "code",
   "execution_count": 20,
   "id": "b3701c3b-7a20-48be-aef6-c333f427e1e7",
   "metadata": {},
   "outputs": [
    {
     "name": "stdout",
     "output_type": "stream",
     "text": [
      "Cloning into 'Data-Engineering'...\n",
      "remote: Enumerating objects: 8, done.\u001b[K\n",
      "remote: Counting objects: 100% (8/8), done.\u001b[K\n",
      "remote: Compressing objects: 100% (7/7), done.\u001b[K\n",
      "remote: Total 8 (delta 1), reused 7 (delta 0), pack-reused 0 (from 0)\u001b[K\n",
      "Receiving objects: 100% (8/8), 10.68 KiB | 3.56 MiB/s, done.\n",
      "Resolving deltas: 100% (1/1), done.\n"
     ]
    }
   ],
   "source": [
    "!git clone https://{GITHUB_TOKEN}@github.com/{GITHUB_USERNAME}/{REPO_NAME}.git"
   ]
  },
  {
   "cell_type": "code",
   "execution_count": null,
   "id": "c4c6b285-7f95-46be-86c9-37872adcdb12",
   "metadata": {},
   "outputs": [],
   "source": [
    "#CRIANDO SUBPASTA"
   ]
  },
  {
   "cell_type": "code",
   "execution_count": null,
   "id": "f4240ffc-165e-438b-9d85-9acf1eb1677e",
   "metadata": {},
   "outputs": [],
   "source": [
    "os.makedirs(f\"{REPO_NAME}/Distributed-Data-Processing-and-Storage\", exist_ok=True)"
   ]
  },
  {
   "cell_type": "code",
   "execution_count": null,
   "id": "6c2d10cc-8230-473d-807f-6f68e663b0b7",
   "metadata": {},
   "outputs": [],
   "source": [
    "#COPIANDO NOTEBOOK"
   ]
  },
  {
   "cell_type": "code",
   "execution_count": null,
   "id": "8d52c78a-0392-4d95-a86d-cbecb3ccfc9b",
   "metadata": {},
   "outputs": [],
   "source": [
    "shutil.copy(NOTEBOOK_NOME, f\"{REPO_NAME}/{SUBPASTA_NAME}/{NOTEBOOK_NOME}\")"
   ]
  },
  {
   "cell_type": "code",
   "execution_count": null,
   "id": "13699fb3-e29e-41bd-b13c-e4b38cd97222",
   "metadata": {},
   "outputs": [],
   "source": [
    "COMMIT AND PUSH"
   ]
  },
  {
   "cell_type": "code",
   "execution_count": 26,
   "id": "69da8ef4-11cf-486f-a7a4-d517420963a2",
   "metadata": {},
   "outputs": [
    {
     "name": "stdout",
     "output_type": "stream",
     "text": [
      "On branch main\n",
      "Your branch is ahead of 'origin/main' by 1 commit.\n",
      "  (use \"git push\" to publish your local commits)\n",
      "\n",
      "nothing to commit, working tree clean\n"
     ]
    }
   ],
   "source": [
    "!cd {REPO_NAME} && git config user.name \"{GITHUB_USERNAME}\" && git config user.email \"joao.p.m.rodrigues10@gmail.com\"\n",
    "!cd {REPO_NAME} && git add . && git commit -m \"Adicionando notebook dentro da subpasta notebooks\" && git push"
   ]
  },
  {
   "cell_type": "code",
   "execution_count": 21,
   "id": "e9635edd-17d6-4c3e-8558-e04b7db90001",
   "metadata": {},
   "outputs": [],
   "source": [
    "os.makedirs(destino, exist_ok=True)\n",
    "for arquivo in glob.glob(origem + \"*.ipynb\"):\n",
    "    shutil.copy(arquivo, destino)"
   ]
  },
  {
   "cell_type": "code",
   "execution_count": null,
   "id": "ec2584e4-e895-46c8-951e-2c49853a854c",
   "metadata": {},
   "outputs": [],
   "source": []
  }
 ],
 "metadata": {
  "kernelspec": {
   "display_name": "Python 3 (ipykernel)",
   "language": "python",
   "name": "python3"
  },
  "language_info": {
   "codemirror_mode": {
    "name": "ipython",
    "version": 3
   },
   "file_extension": ".py",
   "mimetype": "text/x-python",
   "name": "python",
   "nbconvert_exporter": "python",
   "pygments_lexer": "ipython3",
   "version": "3.10.8"
  }
 },
 "nbformat": 4,
 "nbformat_minor": 5
}
